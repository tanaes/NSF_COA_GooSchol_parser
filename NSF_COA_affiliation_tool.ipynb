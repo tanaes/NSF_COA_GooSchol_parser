{
 "cells": [
  {
   "cell_type": "markdown",
   "metadata": {},
   "source": [
    "# NSF COA author/affiliation tool\n",
    "\n",
    "Inspired by [this awesome tool](https://github.com/ejfertig/NSFBiosketch) from Dr. Elana Fertig, but unable to get it to run in time due to a java install problem with the xlsx package in my perpetually infuriating R environment, I whipped up something similar for the Pythonistas. \n",
    "\n",
    "This tool will take a list of PMIDs and return the list of authors and affiliations, along with most recent authorship date. "
   ]
  },
  {
   "cell_type": "code",
   "execution_count": 40,
   "metadata": {},
   "outputs": [],
   "source": [
    "import pandas as pd\n",
    "from pymed import PubMed\n",
    "from time import sleep"
   ]
  },
  {
   "cell_type": "markdown",
   "metadata": {},
   "source": [
    "## Import papers\n",
    "Import a list of your publication PMIDs, one per line in a plaintext file"
   ]
  },
  {
   "cell_type": "code",
   "execution_count": 23,
   "metadata": {},
   "outputs": [],
   "source": [
    "pmids = []\n",
    "with open('PMID-export.txt', 'r') as f:\n",
    "    for line in f:\n",
    "        pmids.append(line.strip())"
   ]
  },
  {
   "cell_type": "code",
   "execution_count": 24,
   "metadata": {},
   "outputs": [
    {
     "data": {
      "text/plain": [
       "['31911491',\n",
       " '31629686',\n",
       " '31792218',\n",
       " '31672156',\n",
       " '31616586',\n",
       " '31154984',\n",
       " '31239396',\n",
       " '31132110',\n",
       " '30822347',\n",
       " '29995839',\n",
       " '30275573',\n",
       " '30059804',\n",
       " '30109092',\n",
       " '29982531',\n",
       " '29795328',\n",
       " '29921959',\n",
       " '29511180',\n",
       " '29482639',\n",
       " '29282061',\n",
       " '28977692',\n",
       " '29088705',\n",
       " '28985400',\n",
       " '28393425',\n",
       " '28026894',\n",
       " '28234579',\n",
       " '28230052',\n",
       " '27801992',\n",
       " '27481780',\n",
       " '27154284']"
      ]
     },
     "execution_count": 24,
     "metadata": {},
     "output_type": "execute_result"
    }
   ],
   "source": [
    "pmids"
   ]
  },
  {
   "cell_type": "markdown",
   "metadata": {},
   "source": [
    "We'll sort them in chronological order, to ensure we get the most recent conflict dates per author"
   ]
  },
  {
   "cell_type": "code",
   "execution_count": 86,
   "metadata": {},
   "outputs": [],
   "source": [
    "pmids.sort()"
   ]
  },
  {
   "cell_type": "code",
   "execution_count": 31,
   "metadata": {},
   "outputs": [],
   "source": [
    "# Create a PubMed object that GraphQL can use to query\n",
    "# Note that the parameters are not required but kindly requested by PubMed Central\n",
    "# https://www.ncbi.nlm.nih.gov/pmc/tools/developers/\n",
    "\n",
    "pubmed = PubMed(tool=\"BioSketchify\", email=\"my@email.address\")\n"
   ]
  },
  {
   "cell_type": "markdown",
   "metadata": {},
   "source": [
    "## Retrieve and parse PubMed entries\n",
    "\n",
    "Query PubMed one publication at a time, and parse the author and affiliation list.\n",
    "\n",
    "Due to API limits, we have to limit the rate at which we query."
   ]
  },
  {
   "cell_type": "code",
   "execution_count": 87,
   "metadata": {},
   "outputs": [
    {
     "name": "stdout",
     "output_type": "stream",
     "text": [
      "Cephaloticoccus gen. nov., a new genus of 'Verrucomicrobia' containing two novel species isolated from Cephalotes ant guts.\n",
      "Dissecting host-associated communities with DNA barcodes.\n",
      "Gut microbiota of dung beetles correspond to dietary specializations of adults and larvae.\n",
      "By their own devices: invasive Argentine ants have shifted diet without clear aid from symbiotic microbes.\n",
      "Unraveling the processes shaping mammalian gut microbiomes over evolutionary time.\n",
      "Corrigendum: Cephaloticoccus gen. nov., a new genus of 'Verrucomicrobia' containing two novel species isolated from Cephalotes ant guts.\n",
      "The structured diversity of specialized gut symbionts of the New World army ants.\n",
      "Ant-plant mutualism: a dietary by-product of a tropical ant's macronutrient requirements.\n",
      "Dramatic Differences in Gut Bacterial Densities Correlate with Diet and Habitat in Rainforest Ants.\n",
      "A communal catalogue reveals Earth's multiscale microbial diversity.\n",
      "The human microbiome in evolution.\n",
      "Improving saliva shotgun metagenomics by chemical host DNA depletion.\n",
      "Herbivorous turtle ants obtain essential nutrients from a conserved nitrogen-recycling gut microbiome.\n",
      "Best practices for analysing microbiomes.\n",
      "Author Correction: Herbivorous turtle ants obtain essential nutrients from a conserved nitrogen-recycling gut microbiome.\n",
      "Genome Evolution of Bartonellaceae Symbionts of Ants at the Opposite Ends of the Trophic Scale.\n",
      "Evolutionary trends in host physiology outweigh dietary niche in structuring primate gut microbiomes.\n",
      "Are microbiome studies ready for hypothesis-driven research?\n",
      "Social behaviour in bees influences the abundance of \n",
      "Qiita: rapid, web-enabled microbiome meta-analysis.\n",
      "The genetic basis for adaptation of model-designed syntrophic co-cultures.\n",
      "Not all animals need a microbiome.\n",
      "Is there convergence of gut microbes in blood-feeding vertebrates?\n",
      "Quantifying and Understanding Well-to-Well Contamination in Microbiome Research.\n",
      "Adapterama I: universal stubs and primers for 384 unique dual-indexed or 147,456 combinatorially-indexed Illumina libraries (iTru & iNext).\n",
      "MetaMiner: A Scalable Peptidogenomics Approach for Discovery of Ribosomal Peptide Natural Products with Blind Modifications from Microbial Communities.\n",
      "Optimizing sequencing protocols for leaderboard metagenomics by combining long and short reads.\n",
      "Phylogenomics of 10,575 genomes reveals evolutionary proximity between domains Bacteria and Archaea.\n",
      "Comparative Analyses of Vertebrate Gut Microbiomes Reveal Convergence between Birds and Bats.\n"
     ]
    }
   ],
   "source": [
    "authors = {}\n",
    "\n",
    "for pmid in pmids:\n",
    "    results = pubmed.query(pmid, max_results=1)\n",
    "    for article in results:\n",
    "        for author in article.authors:\n",
    "            name = '%s, %s' % (author['lastname'], author['firstname'])\n",
    "            year = article.publication_date.year\n",
    "            affiliation = author['affiliation']\n",
    "            authors[name] = (year, affiliation)\n",
    "    print(article.title)\n",
    "    sleep(1)\n",
    "    "
   ]
  },
  {
   "cell_type": "markdown",
   "metadata": {},
   "source": [
    "Make an author dataframe, with blank columns for \"Organization\" and \"Department\""
   ]
  },
  {
   "cell_type": "code",
   "execution_count": 88,
   "metadata": {},
   "outputs": [
    {
     "data": {
      "text/html": [
       "<div>\n",
       "<style scoped>\n",
       "    .dataframe tbody tr th:only-of-type {\n",
       "        vertical-align: middle;\n",
       "    }\n",
       "\n",
       "    .dataframe tbody tr th {\n",
       "        vertical-align: top;\n",
       "    }\n",
       "\n",
       "    .dataframe thead th {\n",
       "        text-align: right;\n",
       "    }\n",
       "</style>\n",
       "<table border=\"1\" class=\"dataframe\">\n",
       "  <thead>\n",
       "    <tr style=\"text-align: right;\">\n",
       "      <th></th>\n",
       "      <th>year</th>\n",
       "      <th>affiliation</th>\n",
       "      <th>Organization</th>\n",
       "      <th>Department</th>\n",
       "    </tr>\n",
       "  </thead>\n",
       "  <tbody>\n",
       "    <tr>\n",
       "      <th>Lin, Jonathan Y</th>\n",
       "      <td>2017</td>\n",
       "      <td>Department of Biology, Calvin College, Grand R...</td>\n",
       "      <td></td>\n",
       "      <td></td>\n",
       "    </tr>\n",
       "    <tr>\n",
       "      <th>Russell, Jacob A</th>\n",
       "      <td>2018</td>\n",
       "      <td>Department of Biology, Drexel University.</td>\n",
       "      <td></td>\n",
       "      <td></td>\n",
       "    </tr>\n",
       "    <tr>\n",
       "      <th>Sanders, Jon G</th>\n",
       "      <td>2020</td>\n",
       "      <td>Department of Pediatrics, School of Medicine, ...</td>\n",
       "      <td></td>\n",
       "      <td></td>\n",
       "    </tr>\n",
       "    <tr>\n",
       "      <th>Wertz, John T</th>\n",
       "      <td>2018</td>\n",
       "      <td>Department of Biology, Calvin College, Grand R...</td>\n",
       "      <td></td>\n",
       "      <td></td>\n",
       "    </tr>\n",
       "    <tr>\n",
       "      <th>Baker, Christopher C M</th>\n",
       "      <td>2016</td>\n",
       "      <td>Department of Organismic and Evolutionary Biol...</td>\n",
       "      <td></td>\n",
       "      <td></td>\n",
       "    </tr>\n",
       "  </tbody>\n",
       "</table>\n",
       "</div>"
      ],
      "text/plain": [
       "                        year  \\\n",
       "Lin, Jonathan Y         2017   \n",
       "Russell, Jacob A        2018   \n",
       "Sanders, Jon G          2020   \n",
       "Wertz, John T           2018   \n",
       "Baker, Christopher C M  2016   \n",
       "\n",
       "                                                              affiliation  \\\n",
       "Lin, Jonathan Y         Department of Biology, Calvin College, Grand R...   \n",
       "Russell, Jacob A                Department of Biology, Drexel University.   \n",
       "Sanders, Jon G          Department of Pediatrics, School of Medicine, ...   \n",
       "Wertz, John T           Department of Biology, Calvin College, Grand R...   \n",
       "Baker, Christopher C M  Department of Organismic and Evolutionary Biol...   \n",
       "\n",
       "                       Organization Department  \n",
       "Lin, Jonathan Y                                 \n",
       "Russell, Jacob A                                \n",
       "Sanders, Jon G                                  \n",
       "Wertz, John T                                   \n",
       "Baker, Christopher C M                          "
      ]
     },
     "execution_count": 88,
     "metadata": {},
     "output_type": "execute_result"
    }
   ],
   "source": [
    "author_df = pd.DataFrame.from_dict(authors, orient='index', columns=['year','affiliation'])\n",
    "author_df['Organization'] = ''\n",
    "author_df['Department'] = ''\n",
    "\n",
    "author_df.head()"
   ]
  },
  {
   "cell_type": "markdown",
   "metadata": {},
   "source": [
    "## Split affiliation into department and organization\n",
    "\n",
    "This might be optional, but PubMed stores affiliation in a single column, and NSF requests 'Organization' be in its own column. This function will loop over the author dataframe, and present each comma-separated element of the 'affiliation' value to you and prompt for input. Press 1 to store that chunk to the 'Department' column, 2 to store that chunk to the 'Organization' column, and any other key to move to the next author.\n",
    "\n",
    "It will only parse authors that have no entry for the required 'Organization' column, so if you miss that and re-run this cell it will pick up where you left off."
   ]
  },
  {
   "cell_type": "code",
   "execution_count": 82,
   "metadata": {},
   "outputs": [
    {
     "name": "stdout",
     "output_type": "stream",
     "text": [
      "Enter 1 for Department, 2 for Organization, or nothing to skip rest\n",
      "Lajuma Research Centre\n",
      "Input:2\n",
      " Louis Trichardt (Makhado)\n",
      "Input:\n",
      "Estacion Biologica Corrientes (MACN-BR) - CONICET\n",
      "Input:2\n",
      " Corrientes\n",
      "Input:\n"
     ]
    }
   ],
   "source": [
    "print(\"Enter 1 for Department, 2 for Organization, or nothing to skip rest\")\n",
    "\n",
    "for i, author in author_df.iterrows():\n",
    "    if author['Organization'] != '':\n",
    "        continue\n",
    "    try:\n",
    "        for bit in author['affiliation'].split(','):\n",
    "\n",
    "            print(bit)\n",
    "            choice = input(\"Input:\")\n",
    "            if choice == '1':\n",
    "                author_df.loc[i, 'Department'] = author_df.loc[i, 'Department'] + bit\n",
    "            elif choice == '2':\n",
    "                author_df.loc[i, 'Organization'] = author_df.loc[i, 'Organization'] + bit\n",
    "            else:\n",
    "                break\n",
    "    except:\n",
    "        continue\n",
    "    "
   ]
  },
  {
   "cell_type": "code",
   "execution_count": 84,
   "metadata": {},
   "outputs": [
    {
     "data": {
      "text/html": [
       "<div>\n",
       "<style scoped>\n",
       "    .dataframe tbody tr th:only-of-type {\n",
       "        vertical-align: middle;\n",
       "    }\n",
       "\n",
       "    .dataframe tbody tr th {\n",
       "        vertical-align: top;\n",
       "    }\n",
       "\n",
       "    .dataframe thead th {\n",
       "        text-align: right;\n",
       "    }\n",
       "</style>\n",
       "<table border=\"1\" class=\"dataframe\">\n",
       "  <thead>\n",
       "    <tr style=\"text-align: right;\">\n",
       "      <th></th>\n",
       "      <th>year</th>\n",
       "      <th>affiliation</th>\n",
       "      <th>Organization</th>\n",
       "      <th>Department</th>\n",
       "    </tr>\n",
       "  </thead>\n",
       "  <tbody>\n",
       "    <tr>\n",
       "      <th>Lin, Jonathan Y</th>\n",
       "      <td>2017</td>\n",
       "      <td>Department of Biology, Calvin College, Grand R...</td>\n",
       "      <td>Calvin College</td>\n",
       "      <td>Department of Biology</td>\n",
       "    </tr>\n",
       "    <tr>\n",
       "      <th>Russell, Jacob A</th>\n",
       "      <td>2018</td>\n",
       "      <td>Department of Biology, Drexel University.</td>\n",
       "      <td>Drexel University.</td>\n",
       "      <td>Department of Biology</td>\n",
       "    </tr>\n",
       "    <tr>\n",
       "      <th>Sanders, Jon G</th>\n",
       "      <td>2020</td>\n",
       "      <td>Department of Pediatrics, School of Medicine, ...</td>\n",
       "      <td>University of California San Diego</td>\n",
       "      <td>Department of Pediatrics School of Medicine</td>\n",
       "    </tr>\n",
       "    <tr>\n",
       "      <th>Wertz, John T</th>\n",
       "      <td>2018</td>\n",
       "      <td>Department of Biology, Calvin College, Grand R...</td>\n",
       "      <td>Calvin College</td>\n",
       "      <td>Department of Biology</td>\n",
       "    </tr>\n",
       "    <tr>\n",
       "      <th>Baker, Christopher C M</th>\n",
       "      <td>2016</td>\n",
       "      <td>Department of Organismic and Evolutionary Biol...</td>\n",
       "      <td>Harvard University</td>\n",
       "      <td>Department of Organismic and Evolutionary Biology</td>\n",
       "    </tr>\n",
       "  </tbody>\n",
       "</table>\n",
       "</div>"
      ],
      "text/plain": [
       "                        year  \\\n",
       "Lin, Jonathan Y         2017   \n",
       "Russell, Jacob A        2018   \n",
       "Sanders, Jon G          2020   \n",
       "Wertz, John T           2018   \n",
       "Baker, Christopher C M  2016   \n",
       "\n",
       "                                                              affiliation  \\\n",
       "Lin, Jonathan Y         Department of Biology, Calvin College, Grand R...   \n",
       "Russell, Jacob A                Department of Biology, Drexel University.   \n",
       "Sanders, Jon G          Department of Pediatrics, School of Medicine, ...   \n",
       "Wertz, John T           Department of Biology, Calvin College, Grand R...   \n",
       "Baker, Christopher C M  Department of Organismic and Evolutionary Biol...   \n",
       "\n",
       "                                               Organization  \\\n",
       "Lin, Jonathan Y                              Calvin College   \n",
       "Russell, Jacob A                         Drexel University.   \n",
       "Sanders, Jon G           University of California San Diego   \n",
       "Wertz, John T                                Calvin College   \n",
       "Baker, Christopher C M                   Harvard University   \n",
       "\n",
       "                                                               Department  \n",
       "Lin, Jonathan Y                                     Department of Biology  \n",
       "Russell, Jacob A                                    Department of Biology  \n",
       "Sanders, Jon G                Department of Pediatrics School of Medicine  \n",
       "Wertz, John T                                       Department of Biology  \n",
       "Baker, Christopher C M  Department of Organismic and Evolutionary Biology  "
      ]
     },
     "execution_count": 84,
     "metadata": {},
     "output_type": "execute_result"
    }
   ],
   "source": [
    "author_df.head()"
   ]
  },
  {
   "cell_type": "markdown",
   "metadata": {},
   "source": [
    "## Export author dataframe to CSV file\n",
    "\n",
    "You can now open this in your favorite spreadsheet column to clean it up and add to the NSF workbook."
   ]
  },
  {
   "cell_type": "code",
   "execution_count": 85,
   "metadata": {},
   "outputs": [],
   "source": [
    "author_df.to_csv('authors_with_affiliations.csv')"
   ]
  }
 ],
 "metadata": {
  "kernelspec": {
   "display_name": "Python 3",
   "language": "python",
   "name": "python3"
  },
  "language_info": {
   "codemirror_mode": {
    "name": "ipython",
    "version": 3
   },
   "file_extension": ".py",
   "mimetype": "text/x-python",
   "name": "python",
   "nbconvert_exporter": "python",
   "pygments_lexer": "ipython3",
   "version": "3.7.3"
  }
 },
 "nbformat": 4,
 "nbformat_minor": 2
}
