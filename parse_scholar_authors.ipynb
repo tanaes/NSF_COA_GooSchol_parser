{
 "cells": [
  {
   "cell_type": "code",
   "execution_count": 1,
   "metadata": {},
   "outputs": [],
   "source": [
    "import pandas as pd"
   ]
  },
  {
   "cell_type": "markdown",
   "metadata": {},
   "source": [
    "### Import Google Scholar CSV reference list"
   ]
  },
  {
   "cell_type": "code",
   "execution_count": 2,
   "metadata": {},
   "outputs": [],
   "source": [
    "my_refs = pd.read_csv('./citations.csv')"
   ]
  },
  {
   "cell_type": "code",
   "execution_count": 4,
   "metadata": {
    "scrolled": true
   },
   "outputs": [
    {
     "data": {
      "text/html": [
       "<div>\n",
       "<style scoped>\n",
       "    .dataframe tbody tr th:only-of-type {\n",
       "        vertical-align: middle;\n",
       "    }\n",
       "\n",
       "    .dataframe tbody tr th {\n",
       "        vertical-align: top;\n",
       "    }\n",
       "\n",
       "    .dataframe thead th {\n",
       "        text-align: right;\n",
       "    }\n",
       "</style>\n",
       "<table border=\"1\" class=\"dataframe\">\n",
       "  <thead>\n",
       "    <tr style=\"text-align: right;\">\n",
       "      <th></th>\n",
       "      <th>Authors</th>\n",
       "      <th>Title</th>\n",
       "      <th>Publication</th>\n",
       "      <th>Volume</th>\n",
       "      <th>Number</th>\n",
       "      <th>Pages</th>\n",
       "      <th>Year</th>\n",
       "      <th>Publisher</th>\n",
       "    </tr>\n",
       "  </thead>\n",
       "  <tbody>\n",
       "    <tr>\n",
       "      <th>0</th>\n",
       "      <td>Lin, Jonathan Y; Russell, Jacob A; Sanders, Jo...</td>\n",
       "      <td>Cephaloticoccus gen. nov., a new genus of ‘Ver...</td>\n",
       "      <td>International journal of systematic and evolut...</td>\n",
       "      <td>66.0</td>\n",
       "      <td>8.0</td>\n",
       "      <td>3034-3040</td>\n",
       "      <td>2016</td>\n",
       "      <td>Microbiology Society</td>\n",
       "    </tr>\n",
       "    <tr>\n",
       "      <th>1</th>\n",
       "      <td>Baker, Christopher CM; Bittleston, Leonora S; ...</td>\n",
       "      <td>Dissecting host-associated communities with DN...</td>\n",
       "      <td>Philosophical Transactions of the Royal Societ...</td>\n",
       "      <td>371.0</td>\n",
       "      <td>1702.0</td>\n",
       "      <td>20150328</td>\n",
       "      <td>2016</td>\n",
       "      <td>The Royal Society</td>\n",
       "    </tr>\n",
       "    <tr>\n",
       "      <th>2</th>\n",
       "      <td>Łukasik, Piotr; Newton, Justin A; Sanders, Jon...</td>\n",
       "      <td>The structured diversity of specialized gut sy...</td>\n",
       "      <td>Molecular Ecology</td>\n",
       "      <td>26.0</td>\n",
       "      <td>14.0</td>\n",
       "      <td>3808-3825</td>\n",
       "      <td>2017</td>\n",
       "      <td>NaN</td>\n",
       "    </tr>\n",
       "    <tr>\n",
       "      <th>3</th>\n",
       "      <td>Shukla, Shantanu P; Sanders, Jon G; Byrne, Mar...</td>\n",
       "      <td>Gut microbiota of dung beetles correspond to d...</td>\n",
       "      <td>Molecular ecology</td>\n",
       "      <td>25.0</td>\n",
       "      <td>24.0</td>\n",
       "      <td>6092-6106</td>\n",
       "      <td>2016</td>\n",
       "      <td>NaN</td>\n",
       "    </tr>\n",
       "    <tr>\n",
       "      <th>4</th>\n",
       "      <td>Whitaker, Melissa RL; Salzman, Shayla; Sanders...</td>\n",
       "      <td>Microbial communities of lycaenid butterflies ...</td>\n",
       "      <td>Frontiers in Microbiology</td>\n",
       "      <td>7.0</td>\n",
       "      <td>NaN</td>\n",
       "      <td>1920</td>\n",
       "      <td>2016</td>\n",
       "      <td>Frontiers</td>\n",
       "    </tr>\n",
       "  </tbody>\n",
       "</table>\n",
       "</div>"
      ],
      "text/plain": [
       "                                             Authors  \\\n",
       "0  Lin, Jonathan Y; Russell, Jacob A; Sanders, Jo...   \n",
       "1  Baker, Christopher CM; Bittleston, Leonora S; ...   \n",
       "2  Łukasik, Piotr; Newton, Justin A; Sanders, Jon...   \n",
       "3  Shukla, Shantanu P; Sanders, Jon G; Byrne, Mar...   \n",
       "4  Whitaker, Melissa RL; Salzman, Shayla; Sanders...   \n",
       "\n",
       "                                               Title  \\\n",
       "0  Cephaloticoccus gen. nov., a new genus of ‘Ver...   \n",
       "1  Dissecting host-associated communities with DN...   \n",
       "2  The structured diversity of specialized gut sy...   \n",
       "3  Gut microbiota of dung beetles correspond to d...   \n",
       "4  Microbial communities of lycaenid butterflies ...   \n",
       "\n",
       "                                         Publication  Volume  Number  \\\n",
       "0  International journal of systematic and evolut...    66.0     8.0   \n",
       "1  Philosophical Transactions of the Royal Societ...   371.0  1702.0   \n",
       "2                                  Molecular Ecology    26.0    14.0   \n",
       "3                                  Molecular ecology    25.0    24.0   \n",
       "4                          Frontiers in Microbiology     7.0     NaN   \n",
       "\n",
       "       Pages  Year             Publisher  \n",
       "0  3034-3040  2016  Microbiology Society  \n",
       "1   20150328  2016     The Royal Society  \n",
       "2  3808-3825  2017                   NaN  \n",
       "3  6092-6106  2016                   NaN  \n",
       "4       1920  2016             Frontiers  "
      ]
     },
     "execution_count": 4,
     "metadata": {},
     "output_type": "execute_result"
    }
   ],
   "source": [
    "my_refs.head()"
   ]
  },
  {
   "cell_type": "markdown",
   "metadata": {},
   "source": [
    "Sort references by year, oldest to newest"
   ]
  },
  {
   "cell_type": "code",
   "execution_count": 6,
   "metadata": {},
   "outputs": [
    {
     "data": {
      "text/html": [
       "<div>\n",
       "<style scoped>\n",
       "    .dataframe tbody tr th:only-of-type {\n",
       "        vertical-align: middle;\n",
       "    }\n",
       "\n",
       "    .dataframe tbody tr th {\n",
       "        vertical-align: top;\n",
       "    }\n",
       "\n",
       "    .dataframe thead th {\n",
       "        text-align: right;\n",
       "    }\n",
       "</style>\n",
       "<table border=\"1\" class=\"dataframe\">\n",
       "  <thead>\n",
       "    <tr style=\"text-align: right;\">\n",
       "      <th></th>\n",
       "      <th>Authors</th>\n",
       "      <th>Title</th>\n",
       "      <th>Publication</th>\n",
       "      <th>Volume</th>\n",
       "      <th>Number</th>\n",
       "      <th>Pages</th>\n",
       "      <th>Year</th>\n",
       "      <th>Publisher</th>\n",
       "    </tr>\n",
       "  </thead>\n",
       "  <tbody>\n",
       "    <tr>\n",
       "      <th>0</th>\n",
       "      <td>Lin, Jonathan Y; Russell, Jacob A; Sanders, Jo...</td>\n",
       "      <td>Cephaloticoccus gen. nov., a new genus of ‘Ver...</td>\n",
       "      <td>International journal of systematic and evolut...</td>\n",
       "      <td>66.0</td>\n",
       "      <td>8.0</td>\n",
       "      <td>3034-3040</td>\n",
       "      <td>2016</td>\n",
       "      <td>Microbiology Society</td>\n",
       "    </tr>\n",
       "    <tr>\n",
       "      <th>1</th>\n",
       "      <td>Baker, Christopher CM; Bittleston, Leonora S; ...</td>\n",
       "      <td>Dissecting host-associated communities with DN...</td>\n",
       "      <td>Philosophical Transactions of the Royal Societ...</td>\n",
       "      <td>371.0</td>\n",
       "      <td>1702.0</td>\n",
       "      <td>20150328</td>\n",
       "      <td>2016</td>\n",
       "      <td>The Royal Society</td>\n",
       "    </tr>\n",
       "    <tr>\n",
       "      <th>3</th>\n",
       "      <td>Shukla, Shantanu P; Sanders, Jon G; Byrne, Mar...</td>\n",
       "      <td>Gut microbiota of dung beetles correspond to d...</td>\n",
       "      <td>Molecular ecology</td>\n",
       "      <td>25.0</td>\n",
       "      <td>24.0</td>\n",
       "      <td>6092-6106</td>\n",
       "      <td>2016</td>\n",
       "      <td>NaN</td>\n",
       "    </tr>\n",
       "    <tr>\n",
       "      <th>4</th>\n",
       "      <td>Whitaker, Melissa RL; Salzman, Shayla; Sanders...</td>\n",
       "      <td>Microbial communities of lycaenid butterflies ...</td>\n",
       "      <td>Frontiers in Microbiology</td>\n",
       "      <td>7.0</td>\n",
       "      <td>NaN</td>\n",
       "      <td>1920</td>\n",
       "      <td>2016</td>\n",
       "      <td>Frontiers</td>\n",
       "    </tr>\n",
       "    <tr>\n",
       "      <th>15</th>\n",
       "      <td>Davenport, Emily R; Sanders, Jon G; Song, Se J...</td>\n",
       "      <td>The human microbiome in evolution</td>\n",
       "      <td>BMC biology</td>\n",
       "      <td>15.0</td>\n",
       "      <td>1.0</td>\n",
       "      <td>1-12</td>\n",
       "      <td>2017</td>\n",
       "      <td>BioMed Central</td>\n",
       "    </tr>\n",
       "  </tbody>\n",
       "</table>\n",
       "</div>"
      ],
      "text/plain": [
       "                                              Authors  \\\n",
       "0   Lin, Jonathan Y; Russell, Jacob A; Sanders, Jo...   \n",
       "1   Baker, Christopher CM; Bittleston, Leonora S; ...   \n",
       "3   Shukla, Shantanu P; Sanders, Jon G; Byrne, Mar...   \n",
       "4   Whitaker, Melissa RL; Salzman, Shayla; Sanders...   \n",
       "15  Davenport, Emily R; Sanders, Jon G; Song, Se J...   \n",
       "\n",
       "                                                Title  \\\n",
       "0   Cephaloticoccus gen. nov., a new genus of ‘Ver...   \n",
       "1   Dissecting host-associated communities with DN...   \n",
       "3   Gut microbiota of dung beetles correspond to d...   \n",
       "4   Microbial communities of lycaenid butterflies ...   \n",
       "15                  The human microbiome in evolution   \n",
       "\n",
       "                                          Publication  Volume  Number  \\\n",
       "0   International journal of systematic and evolut...    66.0     8.0   \n",
       "1   Philosophical Transactions of the Royal Societ...   371.0  1702.0   \n",
       "3                                   Molecular ecology    25.0    24.0   \n",
       "4                           Frontiers in Microbiology     7.0     NaN   \n",
       "15                                        BMC biology    15.0     1.0   \n",
       "\n",
       "        Pages  Year             Publisher  \n",
       "0   3034-3040  2016  Microbiology Society  \n",
       "1    20150328  2016     The Royal Society  \n",
       "3   6092-6106  2016                   NaN  \n",
       "4        1920  2016             Frontiers  \n",
       "15       1-12  2017        BioMed Central  "
      ]
     },
     "execution_count": 6,
     "metadata": {},
     "output_type": "execute_result"
    }
   ],
   "source": [
    "my_refs_bydate = my_refs.sort_values(by=['Year'], ascending=True) \n",
    "my_refs_bydate.head()"
   ]
  },
  {
   "cell_type": "markdown",
   "metadata": {},
   "source": [
    "### Parse authors\n",
    "\n",
    "Creates a dictionary keyed by each unique author, with the value of the most recent coauthorship."
   ]
  },
  {
   "cell_type": "code",
   "execution_count": 18,
   "metadata": {},
   "outputs": [],
   "source": [
    "authors = {}\n",
    "\n",
    "for ref in my_refs.iterrows():\n",
    "    author_str = ref[1]['Authors']\n",
    "    author_list = author_str.split(';')\n",
    "    year = ref[1]['Year']\n",
    "    \n",
    "    for person in author_list:\n",
    "        authors[person.strip()] = year"
   ]
  },
  {
   "cell_type": "markdown",
   "metadata": {},
   "source": [
    "### Export author list\n",
    "\n",
    "Exports in this directory as `author_list.csv`, sorted by last name."
   ]
  },
  {
   "cell_type": "code",
   "execution_count": 24,
   "metadata": {},
   "outputs": [
    {
     "data": {
      "text/plain": [
       "                         2020\n",
       "Ackermann, Gail          2018\n",
       "Aksenov, Alexander       2018\n",
       "Akseshina, Margarita     2018\n",
       "Al-Ghalith, Gabriel A    2019\n",
       "dtype: int64"
      ]
     },
     "execution_count": 24,
     "metadata": {},
     "output_type": "execute_result"
    }
   ],
   "source": [
    "pd.Series(authors).sort_index().head()"
   ]
  },
  {
   "cell_type": "code",
   "execution_count": 23,
   "metadata": {
    "scrolled": true
   },
   "outputs": [
    {
     "name": "stderr",
     "output_type": "stream",
     "text": [
      "/Users/jgs286/miniconda3/envs/py3/lib/python3.7/site-packages/ipykernel_launcher.py:1: FutureWarning: The signature of `Series.to_csv` was aligned to that of `DataFrame.to_csv`, and argument 'header' will change its default value from False to True: please pass an explicit value to suppress this warning.\n",
      "  \"\"\"Entry point for launching an IPython kernel.\n"
     ]
    }
   ],
   "source": [
    "pd.Series(authors).sort_index().to_csv('author_list.csv')"
   ]
  },
  {
   "cell_type": "code",
   "execution_count": null,
   "metadata": {},
   "outputs": [],
   "source": []
  }
 ],
 "metadata": {
  "kernelspec": {
   "display_name": "Python 3",
   "language": "python",
   "name": "python3"
  },
  "language_info": {
   "codemirror_mode": {
    "name": "ipython",
    "version": 3
   },
   "file_extension": ".py",
   "mimetype": "text/x-python",
   "name": "python",
   "nbconvert_exporter": "python",
   "pygments_lexer": "ipython3",
   "version": "3.7.3"
  }
 },
 "nbformat": 4,
 "nbformat_minor": 2
}
